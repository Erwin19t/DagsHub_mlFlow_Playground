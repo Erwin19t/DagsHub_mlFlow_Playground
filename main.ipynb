{
  "cells": [
    {
      "cell_type": "markdown",
      "metadata": {
        "id": "view-in-github",
        "colab_type": "text"
      },
      "source": [
        "<a href=\"https://colab.research.google.com/github/Erwin19t/DagsHub_mlFlow_Playground/blob/main/main.ipynb\" target=\"_parent\"><img src=\"https://colab.research.google.com/assets/colab-badge.svg\" alt=\"Open In Colab\"/></a>"
      ]
    },
    {
      "cell_type": "code",
      "source": [
        "#Download Git repo\n",
        "!git clone https://github.com/Erwin19t/DagsHub_mlFlow_Playground.git"
      ],
      "metadata": {
        "id": "v5V-GHQpGRxu"
      },
      "execution_count": null,
      "outputs": []
    },
    {
      "cell_type": "code",
      "execution_count": 2,
      "metadata": {
        "id": "KZomt3055fxv",
        "colab": {
          "base_uri": "https://localhost:8080/"
        },
        "outputId": "c433a499-eb42-4842-83fb-88f49ea79128"
      },
      "outputs": [
        {
          "output_type": "stream",
          "name": "stdout",
          "text": [
            "/content/DagsHub_mlFlow_Playground/yolov5\n"
          ]
        }
      ],
      "source": [
        "#Move to yolov5 folder\n",
        "%cd DagsHub_mlFlow_Playground/yolov5/"
      ]
    },
    {
      "cell_type": "code",
      "source": [
        "#Download submodule (yolov5)\n",
        "!git submodule update --init --recursive\n",
        "\n",
        "#Intall requirements for yolo\n",
        "!pip install -r requirements.txt"
      ],
      "metadata": {
        "id": "AUY-6zYN5o7Y"
      },
      "execution_count": null,
      "outputs": []
    },
    {
      "cell_type": "code",
      "source": [
        "#To upload Dataset from drive\n",
        "from google.colab import drive\n",
        "drive.mount('/content/drive')"
      ],
      "metadata": {
        "id": "pU2tYCADM7XR",
        "outputId": "5b1a8a75-cd06-4208-d5e4-c882747cff6f",
        "colab": {
          "base_uri": "https://localhost:8080/"
        }
      },
      "execution_count": 5,
      "outputs": [
        {
          "output_type": "stream",
          "name": "stdout",
          "text": [
            "Mounted at /content/drive\n"
          ]
        }
      ]
    },
    {
      "cell_type": "code",
      "source": [
        "import os\n",
        "\n",
        "# Define the path to your specific folder in Google Drive\n",
        "folder_path = '/content/drive/MyDrive/Railway_Signals/Dataset'\n",
        "\n",
        "# List all files in the folder to confirm the contents\n",
        "files = os.listdir(folder_path)\n",
        "print(\"Files in the dataset folder:\", files)"
      ],
      "metadata": {
        "id": "XLV0gTiaOs9e"
      },
      "execution_count": null,
      "outputs": []
    },
    {
      "cell_type": "code",
      "source": [
        "# Train YOLOv5\n",
        "!python train.py --img 640 --batch 20 --epochs 20 --data /content/DagsHub_mlFlow_Playground/custom.yaml --weights yolov5m.pt --cache"
      ],
      "metadata": {
        "id": "BTTSU-jIYZKt"
      },
      "execution_count": null,
      "outputs": []
    }
  ],
  "metadata": {
    "language_info": {
      "name": "python"
    },
    "colab": {
      "provenance": [],
      "gpuType": "T4",
      "include_colab_link": true
    },
    "kernelspec": {
      "name": "python3",
      "display_name": "Python 3"
    },
    "accelerator": "GPU"
  },
  "nbformat": 4,
  "nbformat_minor": 0
}