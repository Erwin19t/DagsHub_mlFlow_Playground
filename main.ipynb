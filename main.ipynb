{
  "cells": [
    {
      "cell_type": "markdown",
      "metadata": {
        "id": "view-in-github",
        "colab_type": "text"
      },
      "source": [
        "<a href=\"https://colab.research.google.com/github/Erwin19t/DagsHub_mlFlow_Playground/blob/main/main.ipynb\" target=\"_parent\"><img src=\"https://colab.research.google.com/assets/colab-badge.svg\" alt=\"Open In Colab\"/></a>"
      ]
    },
    {
      "cell_type": "code",
      "source": [
        "#Download Git repo with its submodules\n",
        "!git clone https://github.com/Erwin19t/DagsHub_mlFlow_Playground.git"
      ],
      "metadata": {
        "id": "v5V-GHQpGRxu"
      },
      "execution_count": null,
      "outputs": []
    },
    {
      "cell_type": "code",
      "execution_count": null,
      "metadata": {
        "id": "KZomt3055fxv"
      },
      "outputs": [],
      "source": [
        "#Move to yolov5 folder\n",
        "%cd DagsHub_mlFlow_Playground/yolov5/"
      ]
    },
    {
      "cell_type": "code",
      "source": [
        "#Intall requirements for yolo\n",
        "!pip install -r requirements.txt\n",
        "#You will be asked to restart sesion.\n",
        "#Do it, execute [2] code and run again this part of code"
      ],
      "metadata": {
        "id": "r5P9kI0JlbR9"
      },
      "execution_count": null,
      "outputs": []
    },
    {
      "cell_type": "code",
      "source": [
        "# Install necessary dependencies\n",
        "!pip3 install mlflow dagshub"
      ],
      "metadata": {
        "id": "jgXBPJUTZxMz"
      },
      "execution_count": null,
      "outputs": []
    },
    {
      "cell_type": "code",
      "source": [
        "#To upload Dataset from drive\n",
        "from google.colab import drive\n",
        "drive.mount('/content/drive')"
      ],
      "metadata": {
        "id": "pU2tYCADM7XR"
      },
      "execution_count": null,
      "outputs": []
    },
    {
      "cell_type": "code",
      "source": [
        "import os\n",
        "\n",
        "# Define the path to your specific folder in Google Drive\n",
        "folder_path = '/content/drive/MyDrive/Dataset'\n",
        "\n",
        "# List all files in the folder to confirm the contents\n",
        "files = os.listdir(folder_path)\n",
        "print(\"Files in the dataset folder:\", files)"
      ],
      "metadata": {
        "id": "XLV0gTiaOs9e"
      },
      "execution_count": null,
      "outputs": []
    },
    {
      "cell_type": "code",
      "source": [
        "# Train YOLOv5 and use mlflow\n",
        "!python train.py --img 640 --batch 40 --epochs 20 --data /content/DagsHub_mlFlow_Playground/custom_drive.yaml --weights yolov5n.pt --cfg /content/DagsHub_mlFlow_Playground/yolov5/models/yolov5n.yaml --cache"
      ],
      "metadata": {
        "id": "BTTSU-jIYZKt"
      },
      "execution_count": null,
      "outputs": []
    },
    {
      "cell_type": "code",
      "source": [
        "#Download experiment folder\n",
        "import shutil\n",
        "from google.colab import files\n",
        "\n",
        "#Note: Experiment folder no necessary will be \"exp\". It could be \"exp1, exp2, etc depending how many times you ran tain.py in the same session\"\n",
        "source_folder = '/content/DagsHub_mlFlow_Playground/yolov5/runs/train/exp'\n",
        "\n",
        "# Zip the folder\n",
        "zip_name = 'exp_archive'\n",
        "shutil.make_archive(zip_name, 'zip', source_folder)\n",
        "\n",
        "# Download the zip file\n",
        "files.download(zip_name + '.zip')"
      ],
      "metadata": {
        "id": "O0SaxbCdE0to"
      },
      "execution_count": null,
      "outputs": []
    }
  ],
  "metadata": {
    "language_info": {
      "name": "python"
    },
    "colab": {
      "provenance": [],
      "gpuType": "T4",
      "include_colab_link": true
    },
    "kernelspec": {
      "name": "python3",
      "display_name": "Python 3"
    },
    "accelerator": "GPU"
  },
  "nbformat": 4,
  "nbformat_minor": 0
}