{
  "cells": [
    {
      "cell_type": "markdown",
      "metadata": {
        "id": "view-in-github",
        "colab_type": "text"
      },
      "source": [
        "<a href=\"https://colab.research.google.com/github/Erwin19t/DagsHub_mlFlow_Playground/blob/main/main.ipynb\" target=\"_parent\"><img src=\"https://colab.research.google.com/assets/colab-badge.svg\" alt=\"Open In Colab\"/></a>"
      ]
    },
    {
      "cell_type": "code",
      "source": [
        "#Download Git repo with its submodules\n",
        "!git clone --recurse-submodules https://github.com/Erwin19t/DagsHub_mlFlow_Playground.git"
      ],
      "metadata": {
        "id": "v5V-GHQpGRxu"
      },
      "execution_count": null,
      "outputs": []
    },
    {
      "cell_type": "code",
      "execution_count": null,
      "metadata": {
        "id": "KZomt3055fxv"
      },
      "outputs": [],
      "source": [
        "#Move to yolov5 folder\n",
        "%cd DagsHub_mlFlow_Playground/yolov5/"
      ]
    },
    {
      "cell_type": "code",
      "source": [
        "#Intall requirements for yolo\n",
        "!pip install -r requirements.txt\n",
        "#You will be asked to restart sesion.\n",
        "#Do it, execute [2] code and run again this part of code"
      ],
      "metadata": {
        "id": "r5P9kI0JlbR9"
      },
      "execution_count": null,
      "outputs": []
    },
    {
      "cell_type": "code",
      "source": [
        "# Install necessary dependencies\n",
        "!pip3 install mlflow dagshub"
      ],
      "metadata": {
        "id": "jgXBPJUTZxMz"
      },
      "execution_count": null,
      "outputs": []
    },
    {
      "cell_type": "code",
      "source": [
        "#To upload Dataset from drive\n",
        "from google.colab import drive\n",
        "drive.mount('/content/drive')"
      ],
      "metadata": {
        "id": "pU2tYCADM7XR"
      },
      "execution_count": null,
      "outputs": []
    },
    {
      "cell_type": "code",
      "source": [
        "import os\n",
        "\n",
        "# Define the path to your specific folder in Google Drive\n",
        "folder_path = '/content/drive/MyDrive/Dataset'\n",
        "\n",
        "# List all files in the folder to confirm the contents\n",
        "files = os.listdir(folder_path)\n",
        "print(\"Files in the dataset folder:\", files)"
      ],
      "metadata": {
        "id": "XLV0gTiaOs9e"
      },
      "execution_count": null,
      "outputs": []
    },
    {
      "cell_type": "code",
      "source": [
        "# Train YOLOv5\n",
        "!python train.py --img 640 --batch 50 --epochs 20 --data /content/DagsHub_mlFlow_Playground/custom.yaml --weights yolov5s.pt --cache"
      ],
      "metadata": {
        "id": "BTTSU-jIYZKt"
      },
      "execution_count": null,
      "outputs": []
    },
    {
      "cell_type": "code",
      "source": [
        "#Download experiment folder\n",
        "import shutil\n",
        "from google.colab import files\n",
        "\n",
        "#Note: Experiment folder no necessary will be \"exp\". It could be \"exp1, exp2, etc depending how many times you ran tain.py in the same session\"\n",
        "source_folder = '/content/DagsHub_mlFlow_Playground/yolov5/runs/train/exp'\n",
        "\n",
        "# Zip the folder\n",
        "zip_name = 'exp_archive'\n",
        "shutil.make_archive(zip_name, 'zip', source_folder)\n",
        "\n",
        "# Download the zip file\n",
        "files.download(zip_name + '.zip')"
      ],
      "metadata": {
        "id": "O0SaxbCdE0to",
        "outputId": "99602fbe-bb3a-4b74-e789-eebc682ab88a",
        "colab": {
          "base_uri": "https://localhost:8080/",
          "height": 17
        }
      },
      "execution_count": 6,
      "outputs": [
        {
          "output_type": "display_data",
          "data": {
            "text/plain": [
              "<IPython.core.display.Javascript object>"
            ],
            "application/javascript": [
              "\n",
              "    async function download(id, filename, size) {\n",
              "      if (!google.colab.kernel.accessAllowed) {\n",
              "        return;\n",
              "      }\n",
              "      const div = document.createElement('div');\n",
              "      const label = document.createElement('label');\n",
              "      label.textContent = `Downloading \"${filename}\": `;\n",
              "      div.appendChild(label);\n",
              "      const progress = document.createElement('progress');\n",
              "      progress.max = size;\n",
              "      div.appendChild(progress);\n",
              "      document.body.appendChild(div);\n",
              "\n",
              "      const buffers = [];\n",
              "      let downloaded = 0;\n",
              "\n",
              "      const channel = await google.colab.kernel.comms.open(id);\n",
              "      // Send a message to notify the kernel that we're ready.\n",
              "      channel.send({})\n",
              "\n",
              "      for await (const message of channel.messages) {\n",
              "        // Send a message to notify the kernel that we're ready.\n",
              "        channel.send({})\n",
              "        if (message.buffers) {\n",
              "          for (const buffer of message.buffers) {\n",
              "            buffers.push(buffer);\n",
              "            downloaded += buffer.byteLength;\n",
              "            progress.value = downloaded;\n",
              "          }\n",
              "        }\n",
              "      }\n",
              "      const blob = new Blob(buffers, {type: 'application/binary'});\n",
              "      const a = document.createElement('a');\n",
              "      a.href = window.URL.createObjectURL(blob);\n",
              "      a.download = filename;\n",
              "      div.appendChild(a);\n",
              "      a.click();\n",
              "      div.remove();\n",
              "    }\n",
              "  "
            ]
          },
          "metadata": {}
        },
        {
          "output_type": "display_data",
          "data": {
            "text/plain": [
              "<IPython.core.display.Javascript object>"
            ],
            "application/javascript": [
              "download(\"download_ab475ee1-adc8-41ee-a526-c8dec7254169\", \"exp_archive.zip\", 1343)"
            ]
          },
          "metadata": {}
        }
      ]
    }
  ],
  "metadata": {
    "language_info": {
      "name": "python"
    },
    "colab": {
      "provenance": [],
      "include_colab_link": true
    },
    "kernelspec": {
      "name": "python3",
      "display_name": "Python 3"
    }
  },
  "nbformat": 4,
  "nbformat_minor": 0
}